{
 "cells": [
  {
   "cell_type": "code",
   "execution_count": 1,
   "metadata": {
    "collapsed": true
   },
   "outputs": [],
   "source": [
    "### Nicholas Fong CSCI 183 HW 2 4/17/16.\n",
    "### Worked with Ashwin Iyer"
   ]
  },
  {
   "cell_type": "code",
   "execution_count": 2,
   "metadata": {
    "collapsed": false
   },
   "outputs": [
    {
     "name": "stdout",
     "output_type": "stream",
     "text": [
      "Enter a positive integer n: 300\n",
      "The first triangle number to have over 300 divisors is 2162160 with 320 divisors\n"
     ]
    }
   ],
   "source": [
    "# Problem 1\n",
    "import math  # for math.sqrt()\n",
    "divisors = input('Enter a positive integer n: ')\n",
    "triangle = 1\n",
    "number = 2\n",
    "factors = []\n",
    "while (2 * len(factors)) < divisors:   # Since we only find half the factors to speed it up, we do 2 * number of factors\n",
    "    triangle += number\n",
    "    number += 1\n",
    "    factors = []\n",
    "    for i in range(1,triangle+1):    # Go to triangle + 1 numbers since then it includes the number itself as a factor\n",
    "        if i > math.sqrt(triangle):  # Exactly half of the factors are located before the square root of the number\n",
    "            break                    # The fringe cases involving perfect squares are irrelevant anyways since they only \n",
    "        if triangle % i == 0:        # contain 3 factors and thus never show up as the answer\n",
    "            factors.append(i)\n",
    "print \"The first triangle number to have over %s divisors is %s with %s divisors\" % (divisors,triangle,2 * len(factors))"
   ]
  },
  {
   "cell_type": "code",
   "execution_count": 3,
   "metadata": {
    "collapsed": false
   },
   "outputs": [
    {
     "name": "stdout",
     "output_type": "stream",
     "text": [
      "Enter a positive integer: 10\n",
      "The longest sequence starting with a number less than 10 starts with 9 and has length 20\n"
     ]
    }
   ],
   "source": [
    "# Problem 2\n",
    "n = input('Enter a positive integer: ')\n",
    "longest_chain = 0\n",
    "number = 0\n",
    "for i in range(1,n):  # brute force through each possible answer. Not the best implementation, but the easiest\n",
    "    value = i\n",
    "    chain = 1\n",
    "    while value != 1:        #Generate the chain from the number down to 1\n",
    "        if value % 2 == 0:\n",
    "            value = value / 2\n",
    "            chain += 1\n",
    "        else:\n",
    "            value = value * 3 + 1\n",
    "            chain += 1\n",
    "    if chain > longest_chain:\n",
    "        longest_chain = chain\n",
    "        number = i\n",
    "print \"The longest sequence starting with a number less than %s starts with %s and has length %s\" % (n,number,longest_chain)"
   ]
  },
  {
   "cell_type": "code",
   "execution_count": 4,
   "metadata": {
    "collapsed": false
   },
   "outputs": [
    {
     "name": "stdout",
     "output_type": "stream",
     "text": [
      "Enter a positive integer: 25\n",
      "There are 126410606437752 routes from the top left corner to the bottom right corner of a 25 × 25 grid\n"
     ]
    }
   ],
   "source": [
    "# Problem 3\n",
    "# Essentially when you analyze this problem, the number of ways to get to each intersection is equal to the number of ways to \n",
    "# get to the intersection above it plus the number of ways to get to the intersection on the left of it. When you analyze this\n",
    "# further for the whole graph, it ends up being extremely similar to pascal's triangle, and so we can solve the problem using\n",
    "# pascals triangle. It turns out that the center (max) element of the row containing 2*n elements is the solution to the problem\n",
    "# with an n x n grid. \n",
    "n = input('Enter a positive integer: ')\n",
    "pascals = [1,2,1]          \n",
    "while len(pascals) <= 2*n:\n",
    "    intermediate = [1]\n",
    "    for i in range(len(pascals)-1):\n",
    "        intermediate.append(pascals[i] + pascals[i+1])  # build pascal's triangle\n",
    "    intermediate.append(1)\n",
    "    pascals = intermediate\n",
    "print \"There are %s routes from the top left corner to the bottom right corner of a %s × %s grid\" % (max(pascals),n,n)"
   ]
  },
  {
   "cell_type": "code",
   "execution_count": 5,
   "metadata": {
    "collapsed": false
   },
   "outputs": [
    {
     "name": "stdout",
     "output_type": "stream",
     "text": [
      "True\n"
     ]
    }
   ],
   "source": [
    "# Problem 4\n",
    "def traverse(field, start, visited = []):\n",
    "    location = start\n",
    "    size = len(field)-1\n",
    "    visitedRight = visited[:]  #Make a copy of where you go so when you modify it it doesn't mess it up\n",
    "    visitedLeft = visited[:]   #later. E.G. Messing it up while going right won't affect going left afterwards\n",
    "    if location == size:  #If we're at the end, we're done\n",
    "        return True\n",
    "    else:  #If not finished\n",
    "        jump = field[location]\n",
    "        if (jump + location) <= size:  #If you can move right and stay inside\n",
    "            if (jump + location) not in visited: #If this place is new\n",
    "                visitedRight.append(location + jump)\n",
    "                right = traverse(field, location + jump, visitedRight) #Go there and restart\n",
    "                if right == True:  #Override everything else since we found a solution\n",
    "                    return True\n",
    "            else:\n",
    "                right = False #This place isn't new, so you're in a loop if you go right    \n",
    "        if (jump + location) > size:\n",
    "            right = False #You can't go right and stay inside\n",
    "        if (location - jump) >= 0:\n",
    "            if (location - jump) not in visited: #If this place is new\n",
    "                visitedLeft.append(location - jump)\n",
    "                left = traverse(field, location - jump, visitedLeft) #Go there and restart\n",
    "                if left == True:  #Override everything else since we found a solution\n",
    "                    return True\n",
    "            else:\n",
    "                left = False\n",
    "        if (location - jump) < 0:  #A lot of redundancies built in, but better safe than sorry, right?\n",
    "            left = False\n",
    "        return left or right\n",
    "\n",
    "field = [3,6,4,1,3,4,2,5,3,0]\n",
    "print traverse(field,0)"
   ]
  },
  {
   "cell_type": "code",
   "execution_count": null,
   "metadata": {
    "collapsed": true
   },
   "outputs": [],
   "source": []
  }
 ],
 "metadata": {
  "kernelspec": {
   "display_name": "Python 2",
   "language": "python",
   "name": "python2"
  },
  "language_info": {
   "codemirror_mode": {
    "name": "ipython",
    "version": 2
   },
   "file_extension": ".py",
   "mimetype": "text/x-python",
   "name": "python",
   "nbconvert_exporter": "python",
   "pygments_lexer": "ipython2",
   "version": "2.7.11"
  }
 },
 "nbformat": 4,
 "nbformat_minor": 0
}
