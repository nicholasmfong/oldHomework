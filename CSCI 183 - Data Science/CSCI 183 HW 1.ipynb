{
 "cells": [
  {
   "cell_type": "code",
   "execution_count": 1,
   "metadata": {
    "collapsed": false
   },
   "outputs": [
    {
     "name": "stdout",
     "output_type": "stream",
     "text": [
      "None\n",
      "FizzBuzz\n"
     ]
    }
   ],
   "source": [
    "## Question 1, Odd problems credited to Dawei Tan\n",
    "def fizzbuzz(n):\n",
    "    if n % 3 == 0:\n",
    "        if n % 5 == 0:\n",
    "            return \"FizzBuzz\"\n",
    "        return \"Fizz\"\n",
    "\n",
    "    if n % 5 == 0:\n",
    "        return \"Buzz\"\n",
    "\n",
    "print fizzbuzz(1)\n",
    "print fizzbuzz(15)"
   ]
  },
  {
   "cell_type": "code",
   "execution_count": 2,
   "metadata": {
    "collapsed": false
   },
   "outputs": [
    {
     "name": "stdout",
     "output_type": "stream",
     "text": [
      "Snap\n",
      "Crackle\n"
     ]
    }
   ],
   "source": [
    "def snapcrackle(n):     #Problem 2\n",
    "    if type(n) == int:\n",
    "        print \"Snap\"\n",
    "    elif type(n) == float:\n",
    "        print \"Crackle\"\n",
    "    else:\n",
    "        pass\n",
    "    \n",
    "snapcrackle('hello')\n",
    "snapcrackle(123)\n",
    "snapcrackle([1,2,3])\n",
    "snapcrackle(3.1415926535)"
   ]
  },
  {
   "cell_type": "code",
   "execution_count": 3,
   "metadata": {
    "collapsed": false
   },
   "outputs": [
    {
     "name": "stdout",
     "output_type": "stream",
     "text": [
      "True\n",
      "False\n"
     ]
    }
   ],
   "source": [
    "def is_prime(n): #Problem 3\n",
    "    if(n < 2):\n",
    "        return False\n",
    "    for i in range(2,n):  #Could be made more efficient, but no need for our current problem\n",
    "        if n%i == 0:\n",
    "            return False\n",
    "    return True\n",
    "\n",
    "print is_prime(2)\n",
    "print is_prime(9)"
   ]
  },
  {
   "cell_type": "code",
   "execution_count": 4,
   "metadata": {
    "collapsed": false
   },
   "outputs": [
    {
     "name": "stdout",
     "output_type": "stream",
     "text": [
      "5\n",
      "13\n"
     ]
    }
   ],
   "source": [
    "def nth_prime(n):     #Problem 4\n",
    "    if(n < 1):\n",
    "        return \"Error\"\n",
    "    primes = [2]\n",
    "    i = 3\n",
    "    while(len(primes) < n):  #Could be made more efficient, but no need for our current problem\n",
    "        if is_prime(i):\n",
    "            primes += [i]\n",
    "        i += 1\n",
    "    return primes[n-1]\n",
    "\n",
    "print nth_prime(3)\n",
    "print nth_prime(6)"
   ]
  },
  {
   "cell_type": "code",
   "execution_count": 5,
   "metadata": {
    "collapsed": false
   },
   "outputs": [
    {
     "name": "stdout",
     "output_type": "stream",
     "text": [
      "3\n",
      "1\n",
      "13\n"
     ]
    }
   ],
   "source": [
    "## Question 5\n",
    "def gcd_iter(a,b):\n",
    "    while b:\n",
    "        a, b = b, a%b\n",
    "    return a\n",
    "\n",
    "print gcd_iter(15,18)\n",
    "print gcd_iter(3,5)\n",
    "print gcd_iter(13,52)"
   ]
  },
  {
   "cell_type": "code",
   "execution_count": 6,
   "metadata": {
    "collapsed": false
   },
   "outputs": [
    {
     "name": "stdout",
     "output_type": "stream",
     "text": [
      "3\n",
      "1\n",
      "13\n"
     ]
    }
   ],
   "source": [
    "def gcd_rec(n,m):  #Problem 6, recursive solution\n",
    "    if n > m: #Assume both n and m are positive integers\n",
    "        if n == (n/m)*m:  #Check to see if n is a multiple of m\n",
    "            return m\n",
    "        else:\n",
    "            return gcd_rec(m,n%m)  #If a > b, and if a = b*k+r where k is a positive int, then gcd(a,b) = gcd(b,r)\n",
    "    else:\n",
    "        if m == (m/n)*n: #Check to see if m is a multiple of n\n",
    "            return n\n",
    "        else:\n",
    "            return gcd_rec(n,m%n)\n",
    "        \n",
    "print gcd_rec(15,18)\n",
    "print gcd_rec(5,3)\n",
    "print gcd_rec(13,52)"
   ]
  },
  {
   "cell_type": "code",
   "execution_count": 7,
   "metadata": {
    "collapsed": false
   },
   "outputs": [
    {
     "name": "stdout",
     "output_type": "stream",
     "text": [
      "13\n"
     ]
    }
   ],
   "source": [
    "## Question 7\n",
    "def fiba(n, fibs = {}):\n",
    "    if n in fibs:\n",
    "        return fibs[n]\n",
    "    if n <= 1:\n",
    "        fibs[n] = n\n",
    "    else:\n",
    "        fibs[n] = fiba(n-1) + fiba(n-2)\n",
    "    return fibs[n]\n",
    "\n",
    "print fiba(7)"
   ]
  },
  {
   "cell_type": "code",
   "execution_count": 8,
   "metadata": {
    "collapsed": false
   },
   "outputs": [
    {
     "name": "stdout",
     "output_type": "stream",
     "text": [
      "3\n",
      "5\n"
     ]
    }
   ],
   "source": [
    "def string_distance(s1,s2): #Problem 8\n",
    "    different = 0\n",
    "    if(len(s1) > len(s2)):\n",
    "        for i in range(len(s2)):\n",
    "            if(s1[i] != s2[i]):\n",
    "                different += 1\n",
    "        different += (len(s1) - len(s2))\n",
    "    else:\n",
    "        for i in range(len(s1)):\n",
    "            if(s1[i] != s2[i]):\n",
    "                different += 1\n",
    "        different += (len(s2) - len(s1))\n",
    "    return different\n",
    "\n",
    "print string_distance(\"abc\",\"bca\")\n",
    "print string_distance(\"py\",\"Python\")"
   ]
  },
  {
   "cell_type": "code",
   "execution_count": 9,
   "metadata": {
    "collapsed": false
   },
   "outputs": [
    {
     "name": "stdout",
     "output_type": "stream",
     "text": [
      "May 1, 1998\n",
      "January 1, 2000\n"
     ]
    }
   ],
   "source": [
    "## Question 9\n",
    "import calendar\n",
    "def convert_date(s):\n",
    "    dates = s.split(\"/\")\n",
    "    dates = [s.lstrip(\"0\") for s in dates]\n",
    "    date = calendar.month_name[int(dates[0])] + \" \" + str(dates[1]) + \", \" + str(dates[2])\n",
    "    return date\n",
    "\n",
    "print convert_date(\"5/1/1998\")\n",
    "print convert_date(\"01/001/2000\")"
   ]
  },
  {
   "cell_type": "code",
   "execution_count": 10,
   "metadata": {
    "collapsed": false
   },
   "outputs": [
    {
     "name": "stdout",
     "output_type": "stream",
     "text": [
      "[1, 2, 3, 4, 5]\n",
      "['a', 'b', 'c']\n"
     ]
    }
   ],
   "source": [
    "def my_sort(l): #Problem 10\n",
    "    for i in range(len(l)): #insertion sort because it was the first one I thought of\n",
    "        j = i\n",
    "        while(j > 0 and l[j] < l[j-1]):\n",
    "            temp = l[j-1]  #swap l[j] and l[j-1]\n",
    "            l[j-1] = l[j]\n",
    "            l[j] = temp\n",
    "            j -= 1\n",
    "            \n",
    "    return l\n",
    "\n",
    "print my_sort([5,2,1,4,3])\n",
    "print my_sort(['c','a','b'])"
   ]
  },
  {
   "cell_type": "code",
   "execution_count": 11,
   "metadata": {
    "collapsed": false
   },
   "outputs": [
    {
     "name": "stdout",
     "output_type": "stream",
     "text": [
      "['e=[1]', 'h=[0]', 'l=[2, 3]', 'o=[4]']\n",
      "[' =[2]', '0=[3, 4]', 'a=[0, 1]']\n"
     ]
    }
   ],
   "source": [
    "## Question 11\n",
    "def frequency_dict(s):\n",
    "    words = list(s.lower())\n",
    "    unique = list(set(s.lower()))\n",
    "    my_sort(unique)\n",
    "    count = unique\n",
    "\n",
    "    for i in range(len(unique)):\n",
    "        array = []\n",
    "        for j in range(len(words)):\n",
    "            if words[j] == unique[i]:\n",
    "                array.append(j)\n",
    "        count[i] = count[i]+ \"=\" + str(array)\n",
    "    return count\n",
    "\n",
    "print frequency_dict(\"hello\")\n",
    "print frequency_dict(\"aA 00\")"
   ]
  },
  {
   "cell_type": "code",
   "execution_count": 12,
   "metadata": {
    "collapsed": false
   },
   "outputs": [
    {
     "name": "stdout",
     "output_type": "stream",
     "text": [
      "[['a', 'b'], ['b', 'a']]\n",
      "[[1, 2, 3], [1, 3, 2], [2, 1, 3], [2, 3, 1], [3, 1, 2], [3, 2, 1]]\n",
      "[[1, 1]]\n",
      "[[1, 1, 2], [1, 2, 1], [2, 1, 1]]\n"
     ]
    }
   ],
   "source": [
    "import copy  #To manipulate a copy by value rather than by reference\n",
    "def my_permute(l):  #Problem 12\n",
    "    if len(l) <= 1: #Assumes l is a list\n",
    "        return [l]\n",
    "    recurse = my_permute(l[:-1])\n",
    "    solution = []\n",
    "    for i in range(len(l)):\n",
    "        for x in recurse:\n",
    "            temp = copy.copy(x)  #Recursively solves the problem by permuting the orginial list minus the last element\n",
    "            temp.insert(i,l[-1]) #and then inserting that element in each possible position from the prior solution\n",
    "            solution.append(temp)\n",
    "    \n",
    "    my_sort(solution)\n",
    "    for i in range(len(solution)-1):  #Delete duplicates\n",
    "        if(i > len(solution)-1): #Using this because otherwise when you delete stuff you outside the range of the shorter list\n",
    "            break\n",
    "        if(solution[i] == solution[i+1]):\n",
    "            del solution[i]\n",
    "    return solution\n",
    "\n",
    "print my_permute(['a', 'b'])\n",
    "print my_permute([1,2,3])\n",
    "print my_permute([1, 1])\n",
    "print my_permute([1,2,1])"
   ]
  }
 ],
 "metadata": {
  "kernelspec": {
   "display_name": "Python 2",
   "language": "python",
   "name": "python2"
  },
  "language_info": {
   "codemirror_mode": {
    "name": "ipython",
    "version": 2
   },
   "file_extension": ".py",
   "mimetype": "text/x-python",
   "name": "python",
   "nbconvert_exporter": "python",
   "pygments_lexer": "ipython2",
   "version": "2.7.11"
  }
 },
 "nbformat": 4,
 "nbformat_minor": 0
}
