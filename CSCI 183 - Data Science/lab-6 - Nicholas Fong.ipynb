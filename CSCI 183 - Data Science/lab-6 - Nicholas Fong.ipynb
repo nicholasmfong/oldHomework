{
 "cells": [
  {
   "cell_type": "markdown",
   "metadata": {},
   "source": [
    "# Lab 6 by Nicholas Fong, worked with Mikael Figueroa"
   ]
  },
  {
   "cell_type": "code",
   "execution_count": 1,
   "metadata": {
    "collapsed": true
   },
   "outputs": [],
   "source": [
    "import os\n",
    "import numpy as np\n",
    "import pandas as pd\n",
    "import matplotlib.pyplot as plt\n",
    "from sklearn import neighbors, metrics, grid_search, cross_validation, preprocessing\n",
    "\n",
    "pd.set_option('display.max_rows', 10)\n",
    "pd.set_option('display.notebook_repr_html', True)\n",
    "pd.set_option('display.max_columns', 10)\n",
    "\n",
    "%matplotlib inline\n",
    "plt.style.use('ggplot')"
   ]
  },
  {
   "cell_type": "code",
   "execution_count": 2,
   "metadata": {
    "collapsed": true
   },
   "outputs": [],
   "source": [
    "df = pd.read_csv(os.path.join('boston.csv'))"
   ]
  },
  {
   "cell_type": "code",
   "execution_count": 3,
   "metadata": {
    "collapsed": false
   },
   "outputs": [
    {
     "data": {
      "text/html": [
       "<div>\n",
       "<table border=\"1\" class=\"dataframe\">\n",
       "  <thead>\n",
       "    <tr style=\"text-align: right;\">\n",
       "      <th></th>\n",
       "      <th>CRIM</th>\n",
       "      <th>ZN</th>\n",
       "      <th>INDUS</th>\n",
       "      <th>CHAS</th>\n",
       "      <th>NOX</th>\n",
       "      <th>...</th>\n",
       "      <th>TAX</th>\n",
       "      <th>PTRATIO</th>\n",
       "      <th>BLACK</th>\n",
       "      <th>LSTAT</th>\n",
       "      <th>MEDV</th>\n",
       "    </tr>\n",
       "  </thead>\n",
       "  <tbody>\n",
       "    <tr>\n",
       "      <th>0</th>\n",
       "      <td>0.00632</td>\n",
       "      <td>18.0</td>\n",
       "      <td>2.31</td>\n",
       "      <td>0</td>\n",
       "      <td>0.538</td>\n",
       "      <td>...</td>\n",
       "      <td>296</td>\n",
       "      <td>15.3</td>\n",
       "      <td>396.90</td>\n",
       "      <td>4.98</td>\n",
       "      <td>24.0</td>\n",
       "    </tr>\n",
       "    <tr>\n",
       "      <th>1</th>\n",
       "      <td>0.02731</td>\n",
       "      <td>0.0</td>\n",
       "      <td>7.07</td>\n",
       "      <td>0</td>\n",
       "      <td>0.469</td>\n",
       "      <td>...</td>\n",
       "      <td>242</td>\n",
       "      <td>17.8</td>\n",
       "      <td>396.90</td>\n",
       "      <td>9.14</td>\n",
       "      <td>21.6</td>\n",
       "    </tr>\n",
       "    <tr>\n",
       "      <th>2</th>\n",
       "      <td>0.02729</td>\n",
       "      <td>0.0</td>\n",
       "      <td>7.07</td>\n",
       "      <td>0</td>\n",
       "      <td>0.469</td>\n",
       "      <td>...</td>\n",
       "      <td>242</td>\n",
       "      <td>17.8</td>\n",
       "      <td>392.83</td>\n",
       "      <td>4.03</td>\n",
       "      <td>34.7</td>\n",
       "    </tr>\n",
       "    <tr>\n",
       "      <th>3</th>\n",
       "      <td>0.03237</td>\n",
       "      <td>0.0</td>\n",
       "      <td>2.18</td>\n",
       "      <td>0</td>\n",
       "      <td>0.458</td>\n",
       "      <td>...</td>\n",
       "      <td>222</td>\n",
       "      <td>18.7</td>\n",
       "      <td>394.63</td>\n",
       "      <td>2.94</td>\n",
       "      <td>33.4</td>\n",
       "    </tr>\n",
       "    <tr>\n",
       "      <th>4</th>\n",
       "      <td>0.06905</td>\n",
       "      <td>0.0</td>\n",
       "      <td>2.18</td>\n",
       "      <td>0</td>\n",
       "      <td>0.458</td>\n",
       "      <td>...</td>\n",
       "      <td>222</td>\n",
       "      <td>18.7</td>\n",
       "      <td>396.90</td>\n",
       "      <td>5.33</td>\n",
       "      <td>36.2</td>\n",
       "    </tr>\n",
       "  </tbody>\n",
       "</table>\n",
       "<p>5 rows × 14 columns</p>\n",
       "</div>"
      ],
      "text/plain": [
       "      CRIM    ZN  INDUS  CHAS    NOX  ...   TAX  PTRATIO   BLACK  LSTAT  MEDV\n",
       "0  0.00632  18.0   2.31     0  0.538  ...   296     15.3  396.90   4.98  24.0\n",
       "1  0.02731   0.0   7.07     0  0.469  ...   242     17.8  396.90   9.14  21.6\n",
       "2  0.02729   0.0   7.07     0  0.469  ...   242     17.8  392.83   4.03  34.7\n",
       "3  0.03237   0.0   2.18     0  0.458  ...   222     18.7  394.63   2.94  33.4\n",
       "4  0.06905   0.0   2.18     0  0.458  ...   222     18.7  396.90   5.33  36.2\n",
       "\n",
       "[5 rows x 14 columns]"
      ]
     },
     "execution_count": 3,
     "metadata": {},
     "output_type": "execute_result"
    }
   ],
   "source": [
    "df.head()"
   ]
  },
  {
   "cell_type": "markdown",
   "metadata": {},
   "source": [
    "The Boston dataset concerns itself with housing values in suburbs of Boston.  A description of the dataset is as follows:\n",
    "\n",
    "- CRIM: per capita crime rate by town\n",
    "- ZN: proportion of residential land zoned for lots over 25,000 sqft\n",
    "- INDUS: proportion of non-retail business acres per town\n",
    "- CHAS: Charles River dummy variable (= 1 if tract bounds river; 0 otherwise)\n",
    "- NOX: nitric oxides concentration (parts per 10 million)\n",
    "- RM: average number of rooms per dwelling\n",
    "- AGE: proportion of owner-occupied units built prior to 1940\n",
    "- DIS: weighted distances to five Boston employment centers\n",
    "- RAD: index of accessibility to radial highways\n",
    "- TAX: full-value property-tax rate (per ten thousands of dollars)\n",
    "- PTRATIO: pupil-teacher ratio by town\n",
    "- B: 1000(Bk - 0.63)^2 where Bk is the proportion of blacks by town\n",
    "- LSTAT: % lower status of the population\n",
    "- MEDV: Median value of owner-occupied homes (in thousands of dollars)"
   ]
  },
  {
   "cell_type": "markdown",
   "metadata": {},
   "source": [
    "## Question 1: Let's first categorize `MEDV` to 4 groups: Bottom 20% as Level 1, next 30% as Level 2, next 30% categorized as Level 3, and the top 20% as Level 4.  Please create a new variable `MEDV_Category` that stores the level number"
   ]
  },
  {
   "cell_type": "code",
   "execution_count": 4,
   "metadata": {
    "collapsed": false
   },
   "outputs": [
    {
     "data": {
      "text/plain": [
       "0      3\n",
       "1      3\n",
       "2      4\n",
       "3      4\n",
       "4      4\n",
       "      ..\n",
       "501    3\n",
       "502    2\n",
       "503    3\n",
       "504    3\n",
       "505    1\n",
       "Name: MEDV_Category, dtype: int64"
      ]
     },
     "execution_count": 4,
     "metadata": {},
     "output_type": "execute_result"
    }
   ],
   "source": [
    "def getLevel(x):\n",
    "    if x <= df.MEDV.quantile(0.2):\n",
    "        return 1\n",
    "    elif x <= df.MEDV.quantile(0.5):\n",
    "        return 2\n",
    "    elif x <= df.MEDV.quantile(0.8):\n",
    "        return 3\n",
    "    elif x <= df.MEDV.quantile(1):\n",
    "        return 4\n",
    "    else:\n",
    "        return -1 #error\n",
    "MEDV_Category = lambda x: getLevel(x)\n",
    "df['MEDV_Category'] = df.MEDV.map(MEDV_Category)\n",
    "df['MEDV_Category'] #I checked, this works as it should"
   ]
  },
  {
   "cell_type": "markdown",
   "metadata": {},
   "source": [
    "## Our goal is to predict `MEDV_Category` based on `RM`, `PTRATIO`, and `LSTAT`"
   ]
  },
  {
   "cell_type": "markdown",
   "metadata": {},
   "source": [
    "## Question 2: First normalize `RM`, `PTRATIO`, and `LSTAT` into the new variables `RM_s`, `PTRATIO_s`, and `LSTAT_s`.  By normalizing, we mean to scale each variable between 0 and 1 with the lowest value as 0 and the highest value as 1"
   ]
  },
  {
   "cell_type": "code",
   "execution_count": 5,
   "metadata": {
    "collapsed": false
   },
   "outputs": [
    {
     "data": {
      "text/html": [
       "<div>\n",
       "<table border=\"1\" class=\"dataframe\">\n",
       "  <thead>\n",
       "    <tr style=\"text-align: right;\">\n",
       "      <th></th>\n",
       "      <th>CRIM</th>\n",
       "      <th>ZN</th>\n",
       "      <th>INDUS</th>\n",
       "      <th>CHAS</th>\n",
       "      <th>NOX</th>\n",
       "      <th>...</th>\n",
       "      <th>MEDV</th>\n",
       "      <th>MEDV_Category</th>\n",
       "      <th>RM_s</th>\n",
       "      <th>PTRATIO_s</th>\n",
       "      <th>LSTAT_s</th>\n",
       "    </tr>\n",
       "  </thead>\n",
       "  <tbody>\n",
       "    <tr>\n",
       "      <th>0</th>\n",
       "      <td>0.00632</td>\n",
       "      <td>18.0</td>\n",
       "      <td>2.31</td>\n",
       "      <td>0</td>\n",
       "      <td>0.538</td>\n",
       "      <td>...</td>\n",
       "      <td>24.0</td>\n",
       "      <td>3</td>\n",
       "      <td>0.577505</td>\n",
       "      <td>0.287234</td>\n",
       "      <td>0.089680</td>\n",
       "    </tr>\n",
       "    <tr>\n",
       "      <th>1</th>\n",
       "      <td>0.02731</td>\n",
       "      <td>0.0</td>\n",
       "      <td>7.07</td>\n",
       "      <td>0</td>\n",
       "      <td>0.469</td>\n",
       "      <td>...</td>\n",
       "      <td>21.6</td>\n",
       "      <td>3</td>\n",
       "      <td>0.547998</td>\n",
       "      <td>0.553191</td>\n",
       "      <td>0.204470</td>\n",
       "    </tr>\n",
       "    <tr>\n",
       "      <th>2</th>\n",
       "      <td>0.02729</td>\n",
       "      <td>0.0</td>\n",
       "      <td>7.07</td>\n",
       "      <td>0</td>\n",
       "      <td>0.469</td>\n",
       "      <td>...</td>\n",
       "      <td>34.7</td>\n",
       "      <td>4</td>\n",
       "      <td>0.694386</td>\n",
       "      <td>0.553191</td>\n",
       "      <td>0.063466</td>\n",
       "    </tr>\n",
       "    <tr>\n",
       "      <th>3</th>\n",
       "      <td>0.03237</td>\n",
       "      <td>0.0</td>\n",
       "      <td>2.18</td>\n",
       "      <td>0</td>\n",
       "      <td>0.458</td>\n",
       "      <td>...</td>\n",
       "      <td>33.4</td>\n",
       "      <td>4</td>\n",
       "      <td>0.658555</td>\n",
       "      <td>0.648936</td>\n",
       "      <td>0.033389</td>\n",
       "    </tr>\n",
       "    <tr>\n",
       "      <th>4</th>\n",
       "      <td>0.06905</td>\n",
       "      <td>0.0</td>\n",
       "      <td>2.18</td>\n",
       "      <td>0</td>\n",
       "      <td>0.458</td>\n",
       "      <td>...</td>\n",
       "      <td>36.2</td>\n",
       "      <td>4</td>\n",
       "      <td>0.687105</td>\n",
       "      <td>0.648936</td>\n",
       "      <td>0.099338</td>\n",
       "    </tr>\n",
       "    <tr>\n",
       "      <th>...</th>\n",
       "      <td>...</td>\n",
       "      <td>...</td>\n",
       "      <td>...</td>\n",
       "      <td>...</td>\n",
       "      <td>...</td>\n",
       "      <td>...</td>\n",
       "      <td>...</td>\n",
       "      <td>...</td>\n",
       "      <td>...</td>\n",
       "      <td>...</td>\n",
       "      <td>...</td>\n",
       "    </tr>\n",
       "    <tr>\n",
       "      <th>501</th>\n",
       "      <td>0.06263</td>\n",
       "      <td>0.0</td>\n",
       "      <td>11.93</td>\n",
       "      <td>0</td>\n",
       "      <td>0.573</td>\n",
       "      <td>...</td>\n",
       "      <td>22.4</td>\n",
       "      <td>3</td>\n",
       "      <td>0.580954</td>\n",
       "      <td>0.893617</td>\n",
       "      <td>0.219095</td>\n",
       "    </tr>\n",
       "    <tr>\n",
       "      <th>502</th>\n",
       "      <td>0.04527</td>\n",
       "      <td>0.0</td>\n",
       "      <td>11.93</td>\n",
       "      <td>0</td>\n",
       "      <td>0.573</td>\n",
       "      <td>...</td>\n",
       "      <td>20.6</td>\n",
       "      <td>2</td>\n",
       "      <td>0.490324</td>\n",
       "      <td>0.893617</td>\n",
       "      <td>0.202815</td>\n",
       "    </tr>\n",
       "    <tr>\n",
       "      <th>503</th>\n",
       "      <td>0.06076</td>\n",
       "      <td>0.0</td>\n",
       "      <td>11.93</td>\n",
       "      <td>0</td>\n",
       "      <td>0.573</td>\n",
       "      <td>...</td>\n",
       "      <td>23.9</td>\n",
       "      <td>3</td>\n",
       "      <td>0.654340</td>\n",
       "      <td>0.893617</td>\n",
       "      <td>0.107892</td>\n",
       "    </tr>\n",
       "    <tr>\n",
       "      <th>504</th>\n",
       "      <td>0.10959</td>\n",
       "      <td>0.0</td>\n",
       "      <td>11.93</td>\n",
       "      <td>0</td>\n",
       "      <td>0.573</td>\n",
       "      <td>...</td>\n",
       "      <td>22.0</td>\n",
       "      <td>3</td>\n",
       "      <td>0.619467</td>\n",
       "      <td>0.893617</td>\n",
       "      <td>0.131071</td>\n",
       "    </tr>\n",
       "    <tr>\n",
       "      <th>505</th>\n",
       "      <td>0.04741</td>\n",
       "      <td>0.0</td>\n",
       "      <td>11.93</td>\n",
       "      <td>0</td>\n",
       "      <td>0.573</td>\n",
       "      <td>...</td>\n",
       "      <td>11.9</td>\n",
       "      <td>1</td>\n",
       "      <td>0.473079</td>\n",
       "      <td>0.893617</td>\n",
       "      <td>0.169702</td>\n",
       "    </tr>\n",
       "  </tbody>\n",
       "</table>\n",
       "<p>506 rows × 18 columns</p>\n",
       "</div>"
      ],
      "text/plain": [
       "        CRIM    ZN  INDUS  CHAS    NOX    ...     MEDV  MEDV_Category  \\\n",
       "0    0.00632  18.0   2.31     0  0.538    ...     24.0              3   \n",
       "1    0.02731   0.0   7.07     0  0.469    ...     21.6              3   \n",
       "2    0.02729   0.0   7.07     0  0.469    ...     34.7              4   \n",
       "3    0.03237   0.0   2.18     0  0.458    ...     33.4              4   \n",
       "4    0.06905   0.0   2.18     0  0.458    ...     36.2              4   \n",
       "..       ...   ...    ...   ...    ...    ...      ...            ...   \n",
       "501  0.06263   0.0  11.93     0  0.573    ...     22.4              3   \n",
       "502  0.04527   0.0  11.93     0  0.573    ...     20.6              2   \n",
       "503  0.06076   0.0  11.93     0  0.573    ...     23.9              3   \n",
       "504  0.10959   0.0  11.93     0  0.573    ...     22.0              3   \n",
       "505  0.04741   0.0  11.93     0  0.573    ...     11.9              1   \n",
       "\n",
       "         RM_s  PTRATIO_s   LSTAT_s  \n",
       "0    0.577505   0.287234  0.089680  \n",
       "1    0.547998   0.553191  0.204470  \n",
       "2    0.694386   0.553191  0.063466  \n",
       "3    0.658555   0.648936  0.033389  \n",
       "4    0.687105   0.648936  0.099338  \n",
       "..        ...        ...       ...  \n",
       "501  0.580954   0.893617  0.219095  \n",
       "502  0.490324   0.893617  0.202815  \n",
       "503  0.654340   0.893617  0.107892  \n",
       "504  0.619467   0.893617  0.131071  \n",
       "505  0.473079   0.893617  0.169702  \n",
       "\n",
       "[506 rows x 18 columns]"
      ]
     },
     "execution_count": 5,
     "metadata": {},
     "output_type": "execute_result"
    }
   ],
   "source": [
    "df['RM_s'] = (df.RM - df.RM.min()) / (df.RM.max() - df.RM.min())\n",
    "df['PTRATIO_s'] = (df.PTRATIO - df.PTRATIO.min()) / (df.PTRATIO.max() - df.PTRATIO.min())  #Rescale the variables\n",
    "df['LSTAT_s'] = (df.LSTAT - df.LSTAT.min()) / (df.LSTAT.max() - df.LSTAT.min())\n",
    "df"
   ]
  },
  {
   "cell_type": "markdown",
   "metadata": {},
   "source": [
    "## Question 2: Run a KNN classifier with 5 nearest neighbors and report your misclassification error; set weights to uniform"
   ]
  },
  {
   "cell_type": "code",
   "execution_count": 6,
   "metadata": {
    "collapsed": false
   },
   "outputs": [
    {
     "data": {
      "text/plain": [
       "0.7865612648221344"
      ]
     },
     "execution_count": 6,
     "metadata": {},
     "output_type": "execute_result"
    }
   ],
   "source": [
    "x = df[ ['RM_s', 'PTRATIO_s', 'LSTAT_s'] ]\n",
    "y = df['MEDV_Category']\n",
    "neighbors.KNeighborsClassifier(n_neighbors = 5, weights = 'uniform').fit(x, y).score(x, y)"
   ]
  },
  {
   "cell_type": "markdown",
   "metadata": {},
   "source": [
    "Answer: Classification accuracy is 78.66%, so misclassification error is 21.34%"
   ]
  },
  {
   "cell_type": "markdown",
   "metadata": {},
   "source": [
    "## Question 3: Is this error reliable?"
   ]
  },
  {
   "cell_type": "markdown",
   "metadata": {},
   "source": [
    "Answer: Since we use the entire data set to run our nearest neighbor test, the error is consistent. Any new data that is similar to old data can expect a similar classification accuracy"
   ]
  },
  {
   "cell_type": "markdown",
   "metadata": {},
   "source": [
    "## Question 4: Now use 10-fold cross-validation to choose the most efficient `k`"
   ]
  },
  {
   "cell_type": "code",
   "execution_count": 7,
   "metadata": {
    "collapsed": false
   },
   "outputs": [
    {
     "data": {
      "text/html": [
       "<div>\n",
       "<table border=\"1\" class=\"dataframe\">\n",
       "  <thead>\n",
       "    <tr style=\"text-align: right;\">\n",
       "      <th></th>\n",
       "      <th>CRIM</th>\n",
       "      <th>ZN</th>\n",
       "      <th>INDUS</th>\n",
       "      <th>CHAS</th>\n",
       "      <th>NOX</th>\n",
       "      <th>...</th>\n",
       "      <th>MEDV</th>\n",
       "      <th>MEDV_Category</th>\n",
       "      <th>RM_s</th>\n",
       "      <th>PTRATIO_s</th>\n",
       "      <th>LSTAT_s</th>\n",
       "    </tr>\n",
       "  </thead>\n",
       "  <tbody>\n",
       "    <tr>\n",
       "      <th>0</th>\n",
       "      <td>0.00632</td>\n",
       "      <td>18.0</td>\n",
       "      <td>2.31</td>\n",
       "      <td>0</td>\n",
       "      <td>0.538</td>\n",
       "      <td>...</td>\n",
       "      <td>24.0</td>\n",
       "      <td>3</td>\n",
       "      <td>0.577505</td>\n",
       "      <td>0.287234</td>\n",
       "      <td>0.089680</td>\n",
       "    </tr>\n",
       "    <tr>\n",
       "      <th>1</th>\n",
       "      <td>0.02731</td>\n",
       "      <td>0.0</td>\n",
       "      <td>7.07</td>\n",
       "      <td>0</td>\n",
       "      <td>0.469</td>\n",
       "      <td>...</td>\n",
       "      <td>21.6</td>\n",
       "      <td>3</td>\n",
       "      <td>0.547998</td>\n",
       "      <td>0.553191</td>\n",
       "      <td>0.204470</td>\n",
       "    </tr>\n",
       "    <tr>\n",
       "      <th>2</th>\n",
       "      <td>0.02729</td>\n",
       "      <td>0.0</td>\n",
       "      <td>7.07</td>\n",
       "      <td>0</td>\n",
       "      <td>0.469</td>\n",
       "      <td>...</td>\n",
       "      <td>34.7</td>\n",
       "      <td>4</td>\n",
       "      <td>0.694386</td>\n",
       "      <td>0.553191</td>\n",
       "      <td>0.063466</td>\n",
       "    </tr>\n",
       "    <tr>\n",
       "      <th>5</th>\n",
       "      <td>0.02985</td>\n",
       "      <td>0.0</td>\n",
       "      <td>2.18</td>\n",
       "      <td>0</td>\n",
       "      <td>0.458</td>\n",
       "      <td>...</td>\n",
       "      <td>28.7</td>\n",
       "      <td>4</td>\n",
       "      <td>0.549722</td>\n",
       "      <td>0.648936</td>\n",
       "      <td>0.096026</td>\n",
       "    </tr>\n",
       "    <tr>\n",
       "      <th>6</th>\n",
       "      <td>0.08829</td>\n",
       "      <td>12.5</td>\n",
       "      <td>7.87</td>\n",
       "      <td>0</td>\n",
       "      <td>0.524</td>\n",
       "      <td>...</td>\n",
       "      <td>22.9</td>\n",
       "      <td>3</td>\n",
       "      <td>0.469630</td>\n",
       "      <td>0.276596</td>\n",
       "      <td>0.295254</td>\n",
       "    </tr>\n",
       "    <tr>\n",
       "      <th>...</th>\n",
       "      <td>...</td>\n",
       "      <td>...</td>\n",
       "      <td>...</td>\n",
       "      <td>...</td>\n",
       "      <td>...</td>\n",
       "      <td>...</td>\n",
       "      <td>...</td>\n",
       "      <td>...</td>\n",
       "      <td>...</td>\n",
       "      <td>...</td>\n",
       "      <td>...</td>\n",
       "    </tr>\n",
       "    <tr>\n",
       "      <th>501</th>\n",
       "      <td>0.06263</td>\n",
       "      <td>0.0</td>\n",
       "      <td>11.93</td>\n",
       "      <td>0</td>\n",
       "      <td>0.573</td>\n",
       "      <td>...</td>\n",
       "      <td>22.4</td>\n",
       "      <td>3</td>\n",
       "      <td>0.580954</td>\n",
       "      <td>0.893617</td>\n",
       "      <td>0.219095</td>\n",
       "    </tr>\n",
       "    <tr>\n",
       "      <th>502</th>\n",
       "      <td>0.04527</td>\n",
       "      <td>0.0</td>\n",
       "      <td>11.93</td>\n",
       "      <td>0</td>\n",
       "      <td>0.573</td>\n",
       "      <td>...</td>\n",
       "      <td>20.6</td>\n",
       "      <td>2</td>\n",
       "      <td>0.490324</td>\n",
       "      <td>0.893617</td>\n",
       "      <td>0.202815</td>\n",
       "    </tr>\n",
       "    <tr>\n",
       "      <th>503</th>\n",
       "      <td>0.06076</td>\n",
       "      <td>0.0</td>\n",
       "      <td>11.93</td>\n",
       "      <td>0</td>\n",
       "      <td>0.573</td>\n",
       "      <td>...</td>\n",
       "      <td>23.9</td>\n",
       "      <td>3</td>\n",
       "      <td>0.654340</td>\n",
       "      <td>0.893617</td>\n",
       "      <td>0.107892</td>\n",
       "    </tr>\n",
       "    <tr>\n",
       "      <th>504</th>\n",
       "      <td>0.10959</td>\n",
       "      <td>0.0</td>\n",
       "      <td>11.93</td>\n",
       "      <td>0</td>\n",
       "      <td>0.573</td>\n",
       "      <td>...</td>\n",
       "      <td>22.0</td>\n",
       "      <td>3</td>\n",
       "      <td>0.619467</td>\n",
       "      <td>0.893617</td>\n",
       "      <td>0.131071</td>\n",
       "    </tr>\n",
       "    <tr>\n",
       "      <th>505</th>\n",
       "      <td>0.04741</td>\n",
       "      <td>0.0</td>\n",
       "      <td>11.93</td>\n",
       "      <td>0</td>\n",
       "      <td>0.573</td>\n",
       "      <td>...</td>\n",
       "      <td>11.9</td>\n",
       "      <td>1</td>\n",
       "      <td>0.473079</td>\n",
       "      <td>0.893617</td>\n",
       "      <td>0.169702</td>\n",
       "    </tr>\n",
       "  </tbody>\n",
       "</table>\n",
       "<p>405 rows × 18 columns</p>\n",
       "</div>"
      ],
      "text/plain": [
       "        CRIM    ZN  INDUS  CHAS    NOX    ...     MEDV  MEDV_Category  \\\n",
       "0    0.00632  18.0   2.31     0  0.538    ...     24.0              3   \n",
       "1    0.02731   0.0   7.07     0  0.469    ...     21.6              3   \n",
       "2    0.02729   0.0   7.07     0  0.469    ...     34.7              4   \n",
       "5    0.02985   0.0   2.18     0  0.458    ...     28.7              4   \n",
       "6    0.08829  12.5   7.87     0  0.524    ...     22.9              3   \n",
       "..       ...   ...    ...   ...    ...    ...      ...            ...   \n",
       "501  0.06263   0.0  11.93     0  0.573    ...     22.4              3   \n",
       "502  0.04527   0.0  11.93     0  0.573    ...     20.6              2   \n",
       "503  0.06076   0.0  11.93     0  0.573    ...     23.9              3   \n",
       "504  0.10959   0.0  11.93     0  0.573    ...     22.0              3   \n",
       "505  0.04741   0.0  11.93     0  0.573    ...     11.9              1   \n",
       "\n",
       "         RM_s  PTRATIO_s   LSTAT_s  \n",
       "0    0.577505   0.287234  0.089680  \n",
       "1    0.547998   0.553191  0.204470  \n",
       "2    0.694386   0.553191  0.063466  \n",
       "5    0.549722   0.648936  0.096026  \n",
       "6    0.469630   0.276596  0.295254  \n",
       "..        ...        ...       ...  \n",
       "501  0.580954   0.893617  0.219095  \n",
       "502  0.490324   0.893617  0.202815  \n",
       "503  0.654340   0.893617  0.107892  \n",
       "504  0.619467   0.893617  0.131071  \n",
       "505  0.473079   0.893617  0.169702  \n",
       "\n",
       "[405 rows x 18 columns]"
      ]
     },
     "execution_count": 7,
     "metadata": {},
     "output_type": "execute_result"
    }
   ],
   "source": [
    "train_df = df.sample(frac = .8).sort_index()\n",
    "train_df"
   ]
  },
  {
   "cell_type": "code",
   "execution_count": 8,
   "metadata": {
    "collapsed": false
   },
   "outputs": [
    {
     "data": {
      "text/html": [
       "<div>\n",
       "<table border=\"1\" class=\"dataframe\">\n",
       "  <thead>\n",
       "    <tr style=\"text-align: right;\">\n",
       "      <th></th>\n",
       "      <th>CRIM</th>\n",
       "      <th>ZN</th>\n",
       "      <th>INDUS</th>\n",
       "      <th>CHAS</th>\n",
       "      <th>NOX</th>\n",
       "      <th>...</th>\n",
       "      <th>MEDV</th>\n",
       "      <th>MEDV_Category</th>\n",
       "      <th>RM_s</th>\n",
       "      <th>PTRATIO_s</th>\n",
       "      <th>LSTAT_s</th>\n",
       "    </tr>\n",
       "  </thead>\n",
       "  <tbody>\n",
       "    <tr>\n",
       "      <th>3</th>\n",
       "      <td>0.03237</td>\n",
       "      <td>0.0</td>\n",
       "      <td>2.18</td>\n",
       "      <td>0</td>\n",
       "      <td>0.458</td>\n",
       "      <td>...</td>\n",
       "      <td>33.4</td>\n",
       "      <td>4</td>\n",
       "      <td>0.658555</td>\n",
       "      <td>0.648936</td>\n",
       "      <td>0.033389</td>\n",
       "    </tr>\n",
       "    <tr>\n",
       "      <th>4</th>\n",
       "      <td>0.06905</td>\n",
       "      <td>0.0</td>\n",
       "      <td>2.18</td>\n",
       "      <td>0</td>\n",
       "      <td>0.458</td>\n",
       "      <td>...</td>\n",
       "      <td>36.2</td>\n",
       "      <td>4</td>\n",
       "      <td>0.687105</td>\n",
       "      <td>0.648936</td>\n",
       "      <td>0.099338</td>\n",
       "    </tr>\n",
       "    <tr>\n",
       "      <th>9</th>\n",
       "      <td>0.17004</td>\n",
       "      <td>12.5</td>\n",
       "      <td>7.87</td>\n",
       "      <td>0</td>\n",
       "      <td>0.524</td>\n",
       "      <td>...</td>\n",
       "      <td>18.9</td>\n",
       "      <td>2</td>\n",
       "      <td>0.468097</td>\n",
       "      <td>0.276596</td>\n",
       "      <td>0.424117</td>\n",
       "    </tr>\n",
       "    <tr>\n",
       "      <th>10</th>\n",
       "      <td>0.22489</td>\n",
       "      <td>12.5</td>\n",
       "      <td>7.87</td>\n",
       "      <td>0</td>\n",
       "      <td>0.524</td>\n",
       "      <td>...</td>\n",
       "      <td>15.0</td>\n",
       "      <td>1</td>\n",
       "      <td>0.539567</td>\n",
       "      <td>0.276596</td>\n",
       "      <td>0.516556</td>\n",
       "    </tr>\n",
       "    <tr>\n",
       "      <th>15</th>\n",
       "      <td>0.62739</td>\n",
       "      <td>0.0</td>\n",
       "      <td>8.14</td>\n",
       "      <td>0</td>\n",
       "      <td>0.538</td>\n",
       "      <td>...</td>\n",
       "      <td>19.9</td>\n",
       "      <td>2</td>\n",
       "      <td>0.435524</td>\n",
       "      <td>0.893617</td>\n",
       "      <td>0.185982</td>\n",
       "    </tr>\n",
       "    <tr>\n",
       "      <th>...</th>\n",
       "      <td>...</td>\n",
       "      <td>...</td>\n",
       "      <td>...</td>\n",
       "      <td>...</td>\n",
       "      <td>...</td>\n",
       "      <td>...</td>\n",
       "      <td>...</td>\n",
       "      <td>...</td>\n",
       "      <td>...</td>\n",
       "      <td>...</td>\n",
       "      <td>...</td>\n",
       "    </tr>\n",
       "    <tr>\n",
       "      <th>487</th>\n",
       "      <td>4.83567</td>\n",
       "      <td>0.0</td>\n",
       "      <td>18.10</td>\n",
       "      <td>0</td>\n",
       "      <td>0.583</td>\n",
       "      <td>...</td>\n",
       "      <td>20.6</td>\n",
       "      <td>2</td>\n",
       "      <td>0.449128</td>\n",
       "      <td>0.808511</td>\n",
       "      <td>0.268212</td>\n",
       "    </tr>\n",
       "    <tr>\n",
       "      <th>491</th>\n",
       "      <td>0.10574</td>\n",
       "      <td>0.0</td>\n",
       "      <td>27.74</td>\n",
       "      <td>0</td>\n",
       "      <td>0.609</td>\n",
       "      <td>...</td>\n",
       "      <td>13.6</td>\n",
       "      <td>1</td>\n",
       "      <td>0.464074</td>\n",
       "      <td>0.797872</td>\n",
       "      <td>0.450883</td>\n",
       "    </tr>\n",
       "    <tr>\n",
       "      <th>494</th>\n",
       "      <td>0.27957</td>\n",
       "      <td>0.0</td>\n",
       "      <td>9.69</td>\n",
       "      <td>0</td>\n",
       "      <td>0.585</td>\n",
       "      <td>...</td>\n",
       "      <td>24.5</td>\n",
       "      <td>3</td>\n",
       "      <td>0.453152</td>\n",
       "      <td>0.702128</td>\n",
       "      <td>0.327263</td>\n",
       "    </tr>\n",
       "    <tr>\n",
       "      <th>495</th>\n",
       "      <td>0.17899</td>\n",
       "      <td>0.0</td>\n",
       "      <td>9.69</td>\n",
       "      <td>0</td>\n",
       "      <td>0.585</td>\n",
       "      <td>...</td>\n",
       "      <td>23.1</td>\n",
       "      <td>3</td>\n",
       "      <td>0.404100</td>\n",
       "      <td>0.702128</td>\n",
       "      <td>0.437914</td>\n",
       "    </tr>\n",
       "    <tr>\n",
       "      <th>496</th>\n",
       "      <td>0.28960</td>\n",
       "      <td>0.0</td>\n",
       "      <td>9.69</td>\n",
       "      <td>0</td>\n",
       "      <td>0.585</td>\n",
       "      <td>...</td>\n",
       "      <td>19.7</td>\n",
       "      <td>2</td>\n",
       "      <td>0.350450</td>\n",
       "      <td>0.702128</td>\n",
       "      <td>0.535596</td>\n",
       "    </tr>\n",
       "  </tbody>\n",
       "</table>\n",
       "<p>101 rows × 18 columns</p>\n",
       "</div>"
      ],
      "text/plain": [
       "        CRIM    ZN  INDUS  CHAS    NOX    ...     MEDV  MEDV_Category  \\\n",
       "3    0.03237   0.0   2.18     0  0.458    ...     33.4              4   \n",
       "4    0.06905   0.0   2.18     0  0.458    ...     36.2              4   \n",
       "9    0.17004  12.5   7.87     0  0.524    ...     18.9              2   \n",
       "10   0.22489  12.5   7.87     0  0.524    ...     15.0              1   \n",
       "15   0.62739   0.0   8.14     0  0.538    ...     19.9              2   \n",
       "..       ...   ...    ...   ...    ...    ...      ...            ...   \n",
       "487  4.83567   0.0  18.10     0  0.583    ...     20.6              2   \n",
       "491  0.10574   0.0  27.74     0  0.609    ...     13.6              1   \n",
       "494  0.27957   0.0   9.69     0  0.585    ...     24.5              3   \n",
       "495  0.17899   0.0   9.69     0  0.585    ...     23.1              3   \n",
       "496  0.28960   0.0   9.69     0  0.585    ...     19.7              2   \n",
       "\n",
       "         RM_s  PTRATIO_s   LSTAT_s  \n",
       "3    0.658555   0.648936  0.033389  \n",
       "4    0.687105   0.648936  0.099338  \n",
       "9    0.468097   0.276596  0.424117  \n",
       "10   0.539567   0.276596  0.516556  \n",
       "15   0.435524   0.893617  0.185982  \n",
       "..        ...        ...       ...  \n",
       "487  0.449128   0.808511  0.268212  \n",
       "491  0.464074   0.797872  0.450883  \n",
       "494  0.453152   0.702128  0.327263  \n",
       "495  0.404100   0.702128  0.437914  \n",
       "496  0.350450   0.702128  0.535596  \n",
       "\n",
       "[101 rows x 18 columns]"
      ]
     },
     "execution_count": 8,
     "metadata": {},
     "output_type": "execute_result"
    }
   ],
   "source": [
    "test_df = df.drop(train_df.index)\n",
    "test_df"
   ]
  },
  {
   "cell_type": "code",
   "execution_count": 9,
   "metadata": {
    "collapsed": false
   },
   "outputs": [
    {
     "data": {
      "text/html": [
       "<div>\n",
       "<table border=\"1\" class=\"dataframe\">\n",
       "  <thead>\n",
       "    <tr style=\"text-align: right;\">\n",
       "      <th></th>\n",
       "      <th>Score</th>\n",
       "      <th>k</th>\n",
       "    </tr>\n",
       "  </thead>\n",
       "  <tbody>\n",
       "    <tr>\n",
       "      <th>0</th>\n",
       "      <td>0.577778</td>\n",
       "      <td>1</td>\n",
       "    </tr>\n",
       "    <tr>\n",
       "      <th>1</th>\n",
       "      <td>0.627160</td>\n",
       "      <td>2</td>\n",
       "    </tr>\n",
       "    <tr>\n",
       "      <th>2</th>\n",
       "      <td>0.617284</td>\n",
       "      <td>3</td>\n",
       "    </tr>\n",
       "    <tr>\n",
       "      <th>3</th>\n",
       "      <td>0.644444</td>\n",
       "      <td>4</td>\n",
       "    </tr>\n",
       "    <tr>\n",
       "      <th>4</th>\n",
       "      <td>0.644444</td>\n",
       "      <td>5</td>\n",
       "    </tr>\n",
       "    <tr>\n",
       "      <th>...</th>\n",
       "      <td>...</td>\n",
       "      <td>...</td>\n",
       "    </tr>\n",
       "    <tr>\n",
       "      <th>358</th>\n",
       "      <td>0.170370</td>\n",
       "      <td>359</td>\n",
       "    </tr>\n",
       "    <tr>\n",
       "      <th>359</th>\n",
       "      <td>0.170370</td>\n",
       "      <td>360</td>\n",
       "    </tr>\n",
       "    <tr>\n",
       "      <th>360</th>\n",
       "      <td>0.170370</td>\n",
       "      <td>361</td>\n",
       "    </tr>\n",
       "    <tr>\n",
       "      <th>361</th>\n",
       "      <td>0.170370</td>\n",
       "      <td>362</td>\n",
       "    </tr>\n",
       "    <tr>\n",
       "      <th>362</th>\n",
       "      <td>0.170370</td>\n",
       "      <td>363</td>\n",
       "    </tr>\n",
       "  </tbody>\n",
       "</table>\n",
       "<p>363 rows × 2 columns</p>\n",
       "</div>"
      ],
      "text/plain": [
       "        Score    k\n",
       "0    0.577778    1\n",
       "1    0.627160    2\n",
       "2    0.617284    3\n",
       "3    0.644444    4\n",
       "4    0.644444    5\n",
       "..        ...  ...\n",
       "358  0.170370  359\n",
       "359  0.170370  360\n",
       "360  0.170370  361\n",
       "361  0.170370  362\n",
       "362  0.170370  363\n",
       "\n",
       "[363 rows x 2 columns]"
      ]
     },
     "execution_count": 9,
     "metadata": {},
     "output_type": "execute_result"
    }
   ],
   "source": [
    "train_x = train_df[ ['RM_s', 'PTRATIO_s', 'LSTAT_s'] ]\n",
    "train_y = train_df['MEDV_Category']\n",
    "k_cv = 10 # 10-fold CV\n",
    "k_nn = range(1, len(train_df) * (k_cv - 1) / k_cv) # k-NN\n",
    "\n",
    "gs = grid_search.GridSearchCV(\n",
    "    estimator = neighbors.KNeighborsClassifier(),\n",
    "    param_grid = {'n_neighbors': k_nn},\n",
    "    cv = cross_validation.KFold(len(train_df), n_folds = k_cv)\n",
    ")\n",
    "\n",
    "gs.fit(train_x, train_y)\n",
    "\n",
    "score_df = pd.DataFrame({'k': [score.parameters['n_neighbors'] for score in gs.grid_scores_],\n",
    "    'Score': [score.mean_validation_score for score in gs.grid_scores_]})\n",
    "\n",
    "score_df"
   ]
  },
  {
   "cell_type": "code",
   "execution_count": 10,
   "metadata": {
    "collapsed": false
   },
   "outputs": [
    {
     "data": {
      "text/html": [
       "<div>\n",
       "<table border=\"1\" class=\"dataframe\">\n",
       "  <thead>\n",
       "    <tr style=\"text-align: right;\">\n",
       "      <th></th>\n",
       "      <th>Score</th>\n",
       "      <th>k</th>\n",
       "    </tr>\n",
       "  </thead>\n",
       "  <tbody>\n",
       "    <tr>\n",
       "      <th>24</th>\n",
       "      <td>0.696296</td>\n",
       "      <td>25</td>\n",
       "    </tr>\n",
       "  </tbody>\n",
       "</table>\n",
       "</div>"
      ],
      "text/plain": [
       "       Score   k\n",
       "24  0.696296  25"
      ]
     },
     "execution_count": 10,
     "metadata": {},
     "output_type": "execute_result"
    }
   ],
   "source": [
    "score_df[score_df.Score == score_df.Score.max()]"
   ]
  },
  {
   "cell_type": "code",
   "execution_count": 11,
   "metadata": {
    "collapsed": false,
    "scrolled": true
   },
   "outputs": [
    {
     "data": {
      "text/plain": [
       "<matplotlib.axes._subplots.AxesSubplot at 0xac3cef0>"
      ]
     },
     "execution_count": 11,
     "metadata": {},
     "output_type": "execute_result"
    },
    {
     "data": {
      "image/png": "[encoded data removed]",
      "text/plain": [
       "<matplotlib.figure.Figure at 0xac47518>"
      ]
     },
     "metadata": {},
     "output_type": "display_data"
    }
   ],
   "source": [
    "score_df.set_index('k').plot()  #See the pattern for differing k values"
   ]
  },
  {
   "cell_type": "code",
   "execution_count": 12,
   "metadata": {
    "collapsed": false
   },
   "outputs": [
    {
     "data": {
      "text/plain": [
       "<matplotlib.axes._subplots.AxesSubplot at 0xcf40518>"
      ]
     },
     "execution_count": 12,
     "metadata": {},
     "output_type": "execute_result"
    },
    {
     "data": {
      "image/png": "[encoded data removed]",
      "text/plain": [
       "<matplotlib.figure.Figure at 0xac47e10>"
      ]
     },
     "metadata": {},
     "output_type": "display_data"
    }
   ],
   "source": [
    "score_df.set_index('k')[:40].plot()  #Zoom in on the bottom 40 k values since those have the highest score"
   ]
  },
  {
   "cell_type": "markdown",
   "metadata": {},
   "source": [
    "## Question 5: Explain your findings"
   ]
  },
  {
   "cell_type": "markdown",
   "metadata": {},
   "source": [
    "Answer: Over several repeated trials with differing values taken for our training set, overall the best k value seems to be around 21. Sometimes a lower k value of around 9 achieves optimal scores, but usually a k value of around 21 is very close in ranking. This means that we can best guess what category a value is in by looking at the 21 nearest neighbors and choosing the most popular one. Classification accuracy is about 69.4%."
   ]
  },
  {
   "cell_type": "markdown",
   "metadata": {},
   "source": [
    "## Question 6: Train your model with the optimal `k` you found above (don't worry if it changes from time to time - if that is the case use the one that is usually the best)"
   ]
  },
  {
   "cell_type": "code",
   "execution_count": 13,
   "metadata": {
    "collapsed": false
   },
   "outputs": [
    {
     "name": "stdout",
     "output_type": "stream",
     "text": [
      "train =  0.723456790123\n",
      "test  =  0.732673267327\n"
     ]
    }
   ],
   "source": [
    "model = neighbors.KNeighborsClassifier(n_neighbors = 21, weights = 'uniform')\n",
    "model.fit(train_x,train_y)\n",
    "test_x = test_df[ ['RM_s', 'PTRATIO_s', 'LSTAT_s'] ]\n",
    "test_y = test_df['MEDV_Category']\n",
    "print 'train = ', model.score(train_x, train_y)\n",
    "print 'test  = ', model.score(test_x, test_y)"
   ]
  },
  {
   "cell_type": "markdown",
   "metadata": {},
   "source": [
    "Answer: Our model with the optimal k value of 21 has a classification accuracy of about 72%"
   ]
  },
  {
   "cell_type": "markdown",
   "metadata": {},
   "source": [
    "## Question 7: After training your model with that `k`, use it to predict the class of a neighborhood with `RM = 2`, `PRATIO = 19` and `LSTAT = 3.5` "
   ]
  },
  {
   "cell_type": "code",
   "execution_count": 18,
   "metadata": {
    "collapsed": false
   },
   "outputs": [
    {
     "name": "stdout",
     "output_type": "stream",
     "text": [
      "raw test data\n",
      "    RM  PTRATIO  LSTAT\n",
      "0  2.0     19.0    3.5\n",
      "scaled test data\n",
      "         RM   PTRATIO     LSTAT\n",
      "0 -0.299099  0.680851  0.048841\n",
      "predicted class of neighborhood: [2]\n"
     ]
    }
   ],
   "source": [
    "unknown = {'RM' : 2, 'LSTAT' : 3.5, 'PTRATIO' : 19}\n",
    "unknown = pd.DataFrame.from_dict(data = unknown, orient = 'index').transpose() #Create a dataframe of the test data\n",
    "print 'raw test data\\n', unknown #test data\n",
    "unknown['RM'] = (unknown.RM - df.RM.min()) / (df.RM.max() - df.RM.min())\n",
    "unknown['PTRATIO'] = (unknown.PTRATIO - df.PTRATIO.min()) / (df.PTRATIO.max() - df.PTRATIO.min())  #Rescale the test data to match\n",
    "unknown['LSTAT'] = (unknown.LSTAT - df.LSTAT.min()) / (df.LSTAT.max() - df.LSTAT.min())            #the scaled training data\n",
    "print 'scaled test data\\n', unknown #verify it was scaled properly\n",
    "print 'predicted class of neighborhood:',model.predict(unknown)"
   ]
  },
  {
   "cell_type": "markdown",
   "metadata": {},
   "source": [
    "Answer: 4"
   ]
  },
  {
   "cell_type": "code",
   "execution_count": 17,
   "metadata": {
    "collapsed": false
   },
   "outputs": [
    {
     "data": {
      "text/plain": [
       "0   -0.045263\n",
       "Name: LSTAT, dtype: float64"
      ]
     },
     "execution_count": 17,
     "metadata": {},
     "output_type": "execute_result"
    }
   ],
   "source": [
    "(unknown.LSTAT - df.LSTAT.min()) / (df.LSTAT.max() - df.LSTAT.min())"
   ]
  },
  {
   "cell_type": "code",
   "execution_count": null,
   "metadata": {
    "collapsed": true
   },
   "outputs": [],
   "source": []
  }
 ],
 "metadata": {
  "kernelspec": {
   "display_name": "Python 2",
   "language": "python",
   "name": "python2"
  },
  "language_info": {
   "codemirror_mode": {
    "name": "ipython",
    "version": 2
   },
   "file_extension": ".py",
   "mimetype": "text/x-python",
   "name": "python",
   "nbconvert_exporter": "python",
   "pygments_lexer": "ipython2",
   "version": "2.7.11"
  }
 },
 "nbformat": 4,
 "nbformat_minor": 0
}
